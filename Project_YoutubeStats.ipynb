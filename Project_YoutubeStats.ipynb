{
 "cells": [
  {
   "cell_type": "code",
   "execution_count": null,
   "metadata": {},
   "outputs": [],
   "source": [
    "import pandas as pd\n",
    "from matplotlib import pyplot as plt\n",
    "\n",
    "from pandas.io.json import json_normalize\n",
    "#used this as json file has nested dictionaries\n",
    "\n",
    "import numpy as np\n",
    "\n",
    "#used below to parse dates in publish_time column\n",
    "d_parser = lambda x : pd.datetime.strptime(x[:10]+' '+x[11:19],\"%Y-%m-%d %H:%M:%S\")\n",
    "df = pd.read_csv('C:\\Python\\Project\\INvideos.csv', parse_dates = ['publish_time'],date_parser = d_parser)\n",
    "        \n",
    "#was unable to use above code to parse multiple date columns with different formats, hence used below lambda function\n",
    "df[\"trending_date\"] = df[\"trending_date\"].apply(lambda x : pd.datetime.strptime(x,\"%y.%d.%m\"))\n",
    "df1 = pd.read_json('C:\\Python\\Project\\IN_category_id.json')\n",
    "categories = json_normalize(df1[\"items\"])\n",
    "categories[\"id\"] = categories[\"id\"].astype('int64')\n",
    "df = pd.merge(df,categories[[\"id\",\"snippet.title\"]],left_on =[\"category_id\"],right_on = ['id'], how = 'left')\n",
    "df.drop(columns = [\"id\"],inplace = True)\n",
    "df.rename(columns = {\"snippet.title\":\"category\"},inplace = True)\n",
    "#calculate time gap between video publish and trend time, time component available only in publish dt but not trend dt, \n",
    "#hence difference calculated in days only, type is int for easy calculations\n",
    "df[\"time_to_trend\"] = (df[\"trending_date\"].astype('datetime64') - df[\"publish_time\"].astype('datetime64')).dt.days\n",
    "#print(df[\"time_to_trend\"].head())\n"
   ]
  },
  {
   "cell_type": "code",
   "execution_count": null,
   "metadata": {},
   "outputs": [],
   "source": [
    "df.shape"
   ]
  },
  {
   "cell_type": "code",
   "execution_count": null,
   "metadata": {},
   "outputs": [],
   "source": [
    "df[df.duplicated()]"
   ]
  },
  {
   "cell_type": "code",
   "execution_count": null,
   "metadata": {},
   "outputs": [],
   "source": [
    "filt = df[\"video_id\"] == 'YAzs-timxnI'\n",
    "df.loc[filt]"
   ]
  },
  {
   "cell_type": "code",
   "execution_count": null,
   "metadata": {},
   "outputs": [],
   "source": [
    "#drop absolute duplicates\n",
    "df.drop_duplicates(inplace = True)"
   ]
  },
  {
   "cell_type": "code",
   "execution_count": null,
   "metadata": {},
   "outputs": [],
   "source": [
    "df.shape"
   ]
  },
  {
   "cell_type": "code",
   "execution_count": null,
   "metadata": {},
   "outputs": [],
   "source": [
    "df.columns"
   ]
  },
  {
   "cell_type": "code",
   "execution_count": null,
   "metadata": {},
   "outputs": [],
   "source": [
    "df.info()"
   ]
  },
  {
   "cell_type": "code",
   "execution_count": null,
   "metadata": {},
   "outputs": [],
   "source": [
    "df.isnull().sum()"
   ]
  },
  {
   "cell_type": "code",
   "execution_count": null,
   "metadata": {},
   "outputs": [],
   "source": [
    "df.isna().sum()"
   ]
  },
  {
   "cell_type": "code",
   "execution_count": null,
   "metadata": {},
   "outputs": [],
   "source": [
    "df.nunique().sort_values(ascending=False)"
   ]
  },
  {
   "cell_type": "code",
   "execution_count": null,
   "metadata": {},
   "outputs": [],
   "source": [
    "#investigate nulls in description\n",
    "filt = df[\"description\"].isna()\n",
    "df.loc[filt]"
   ]
  },
  {
   "cell_type": "code",
   "execution_count": null,
   "metadata": {},
   "outputs": [],
   "source": [
    "#investigate nulls in category column\n",
    "#found there is no match for category for category_id 29 in any json,\n",
    "#but figured out it is \"Nonprofits & Activism\", updating it below"
   ]
  },
  {
   "cell_type": "code",
   "execution_count": null,
   "metadata": {},
   "outputs": [],
   "source": [
    "filt = df[\"category\"].isna()"
   ]
  },
  {
   "cell_type": "code",
   "execution_count": null,
   "metadata": {},
   "outputs": [],
   "source": [
    "df.loc[filt,'category'] = 'Nonprofits & Activism'"
   ]
  },
  {
   "cell_type": "code",
   "execution_count": null,
   "metadata": {},
   "outputs": [],
   "source": [
    "#rerun uniquecount \n",
    "df.nunique().sort_values(ascending=False)"
   ]
  },
  {
   "cell_type": "code",
   "execution_count": null,
   "metadata": {},
   "outputs": [],
   "source": [
    "#analyse why there are duplicate video_ids, notice count of unique video_ids is almost 50% less than total dataset\n",
    "#also notice the #NAME? and #VALUE! which needs investigation as well\n",
    "df.groupby(\"video_id\")[\"video_id\"].value_counts()"
   ]
  },
  {
   "cell_type": "code",
   "execution_count": null,
   "metadata": {},
   "outputs": [],
   "source": [
    "#Pick any video id which has more than 1 entry\n",
    "filt = df[\"video_id\"] == 'zyvYkpoLeSU'"
   ]
  },
  {
   "cell_type": "code",
   "execution_count": null,
   "metadata": {},
   "outputs": [],
   "source": [
    "df.loc[filt]\n",
    "#entries have different trending_date and it appears that only one copy should be picked"
   ]
  },
  {
   "cell_type": "code",
   "execution_count": null,
   "metadata": {},
   "outputs": [],
   "source": [
    "df[\"video_id\"].str.len().unique()"
   ]
  },
  {
   "cell_type": "code",
   "execution_count": null,
   "metadata": {},
   "outputs": [],
   "source": [
    "df[\"video_id\"].str.len().value_counts()"
   ]
  },
  {
   "cell_type": "code",
   "execution_count": null,
   "metadata": {},
   "outputs": [],
   "source": [
    "#before progessing further, investigate suspicious entries in video_id column\n",
    "#looks like there is no pattern here, can be dropped from the main dataframe but stored in another \n",
    "#data frame for further analysis\n",
    "filt = df[\"video_id\"].str.len() < 11\n",
    "df_investigateids = df.loc[filt]\n",
    "df_investigateids"
   ]
  },
  {
   "cell_type": "code",
   "execution_count": null,
   "metadata": {},
   "outputs": [],
   "source": [
    "df.drop(index = df[filt].index, axis = 0, inplace = True)\n",
    "df[\"video_id\"].str.len().value_counts()"
   ]
  },
  {
   "cell_type": "code",
   "execution_count": null,
   "metadata": {},
   "outputs": [],
   "source": [
    "#just another way of finding max values\n",
    "# temp = df.groupby(\"video_id\")[\"trending_date\"].max()\n",
    "# temp\n",
    "df[df.duplicated(['video_id','trending_date'])]"
   ]
  },
  {
   "cell_type": "code",
   "execution_count": null,
   "metadata": {
    "jupyter": {
     "source_hidden": true
    }
   },
   "outputs": [],
   "source": [
    "#retain only rows with latest trending_date\n",
    "filt = df.sort_values(by=\"trending_date\").duplicated(subset=[\"video_id\"], keep=\"last\")\n",
    "df.drop(index = df[filt].index, axis = 0,inplace = True)\n",
    "#note the dropped rows can be used for further analysis on trending patterns"
   ]
  },
  {
   "cell_type": "code",
   "execution_count": null,
   "metadata": {},
   "outputs": [],
   "source": [
    "#clean data\n",
    "df.nunique()"
   ]
  },
  {
   "cell_type": "code",
   "execution_count": null,
   "metadata": {},
   "outputs": [],
   "source": [
    "df.describe()"
   ]
  },
  {
   "cell_type": "code",
   "execution_count": null,
   "metadata": {},
   "outputs": [],
   "source": [
    "anum = df[\"category\"].value_counts(normalize = False).sort_values()\n",
    "aper = df[\"category\"].value_counts(normalize = True).mul(100).round(2)\n",
    "acom = pd.concat([anum,aper],axis = 1, keys = ['Counts','%ages'])\n",
    "print(acom)\n",
    "bnum = pd.crosstab(df[\"category\"],df[\"comments_disabled\"])\n",
    "bper = pd.crosstab(df[\"category\"],df[\"comments_disabled\"],normalize = True).mul(100).round(2).astype('str')+'%'\n",
    "bcom = pd.concat([bnum,bper],axis = 1, keys = ['Counts','%ages']) \n",
    "print(bcom)\n",
    "#indexes = bcom.index.get_level_values('category')\n",
    "both = acom.merge(bcom, right_on = bcom.index.get_level_values('category'), left_on = acom.index, how = 'inner',sort = True)\n",
    "both.sort_values(by = 'Counts',ascending = False)\n",
    "\n",
    "\n",
    "# from IPython.display import display, HTML\n",
    "# display(HTML(both.to_html()))\n",
    "\n"
   ]
  },
  {
   "cell_type": "code",
   "execution_count": null,
   "metadata": {},
   "outputs": [],
   "source": [
    "import plotly.express as px\n",
    "data = df[\"category\"].value_counts().rename_axis('Category').reset_index(name = 'Counts')\n",
    "#print(data,type(data),data.columns)\n",
    "fig = px.pie(data,values = 'Counts',names = 'Category',width = 800, height = 400)\n",
    "fig.update_layout(\n",
    "    margin=dict(l=10, r=10, t=20, b=20, pad = 4), paper_bgcolor = \"LightSteelBlue\"\n",
    ")\n",
    "fig.show()"
   ]
  },
  {
   "cell_type": "code",
   "execution_count": null,
   "metadata": {},
   "outputs": [],
   "source": [
    "filt = df[\"comments_disabled\"] == True\n",
    "df.loc[filt]"
   ]
  },
  {
   "cell_type": "code",
   "execution_count": null,
   "metadata": {},
   "outputs": [],
   "source": [
    "df.head()"
   ]
  },
  {
   "cell_type": "code",
   "execution_count": null,
   "metadata": {},
   "outputs": [],
   "source": [
    "df.info()"
   ]
  },
  {
   "cell_type": "code",
   "execution_count": null,
   "metadata": {},
   "outputs": [],
   "source": [
    "df[\"category\"].value_counts()"
   ]
  },
  {
   "cell_type": "code",
   "execution_count": null,
   "metadata": {},
   "outputs": [],
   "source": []
  },
  {
   "cell_type": "code",
   "execution_count": null,
   "metadata": {},
   "outputs": [],
   "source": [
    "print(df[\"category\"].value_counts())\n",
    "df[\"category\"].value_counts().plot(kind = 'hist')"
   ]
  },
  {
   "cell_type": "code",
   "execution_count": null,
   "metadata": {},
   "outputs": [],
   "source": []
  },
  {
   "cell_type": "code",
   "execution_count": null,
   "metadata": {},
   "outputs": [],
   "source": [
    "cat_master_list = pd.Series(categories[\"id\"].unique()).sort_values()"
   ]
  },
  {
   "cell_type": "code",
   "execution_count": null,
   "metadata": {},
   "outputs": [],
   "source": [
    "cat_data_list = pd.Series(df[\"category_id\"].unique()).sort_values()"
   ]
  },
  {
   "cell_type": "code",
   "execution_count": null,
   "metadata": {},
   "outputs": [],
   "source": [
    "print(type(cat_master_list))\n",
    "print(cat_data_list)"
   ]
  },
  {
   "cell_type": "code",
   "execution_count": null,
   "metadata": {},
   "outputs": [],
   "source": [
    "cat_data_list.isin(cat_master_list)"
   ]
  },
  {
   "cell_type": "code",
   "execution_count": null,
   "metadata": {},
   "outputs": [],
   "source": [
    "df[\"category\"].value_counts(dropna = False)"
   ]
  },
  {
   "cell_type": "code",
   "execution_count": null,
   "metadata": {},
   "outputs": [],
   "source": [
    "filt = df3[\"snippet.title\"].isna()"
   ]
  },
  {
   "cell_type": "code",
   "execution_count": null,
   "metadata": {},
   "outputs": [],
   "source": [
    "df3.loc[filt]"
   ]
  },
  {
   "cell_type": "code",
   "execution_count": null,
   "metadata": {},
   "outputs": [],
   "source": [
    "#Top 10 trending videos\n",
    "#top 5 words under tag for most disliked and most liked videos \n",
    "#most trending categories\n",
    "#trending time for \n",
    "#summary = df.fillna('1').groupby([\"category\",\"channel_title\"])[[\"views\",\"likes\",\"comment_count\",\"dislikes\"]].sum().sort_values(by =[\"views\",\"likes\",\"comment_count\",\"dislikes\"], ascending = False)\n",
    "summary = df.fillna('1').groupby([\"category\",\"channel_title\",\"video_id\"])[[\"views\",\"likes\",\"comment_count\",\"dislikes\"]].sum().sort_values(by =[\"views\"], ascending = False)"
   ]
  },
  {
   "cell_type": "code",
   "execution_count": null,
   "metadata": {},
   "outputs": [],
   "source": [
    "summary"
   ]
  },
  {
   "cell_type": "code",
   "execution_count": null,
   "metadata": {},
   "outputs": [],
   "source": [
    "summary[\"like%\"] = (summary[\"likes\"]/summary[\"views\"]).mul(100).round(2).astype('str')+'%'"
   ]
  },
  {
   "cell_type": "code",
   "execution_count": null,
   "metadata": {},
   "outputs": [],
   "source": []
  },
  {
   "cell_type": "code",
   "execution_count": null,
   "metadata": {},
   "outputs": [],
   "source": [
    "summary[\"comment%\"] = (summary[\"comment_count\"]/summary[\"views\"]).mul(100).round(2).astype('str')+'%'"
   ]
  },
  {
   "cell_type": "code",
   "execution_count": null,
   "metadata": {},
   "outputs": [],
   "source": [
    "summary[\"dislike%\"] = (summary[\"dislikes\"]/summary[\"views\"]).mul(100).round(2).astype('str')+'%'"
   ]
  },
  {
   "cell_type": "code",
   "execution_count": null,
   "metadata": {},
   "outputs": [],
   "source": [
    "summary"
   ]
  },
  {
   "cell_type": "code",
   "execution_count": null,
   "metadata": {},
   "outputs": [],
   "source": [
    "temp = pd.DataFrame(df[\"tags\"].str.split(expand=True).stack().value_counts(), columns = ['counts'])"
   ]
  },
  {
   "cell_type": "code",
   "execution_count": null,
   "metadata": {},
   "outputs": [],
   "source": [
    "temp1 = pd.DataFrame(df[\"tags\"].str.split(expand=True).stack().value_counts(), columns = ['counts'])"
   ]
  },
  {
   "cell_type": "code",
   "execution_count": null,
   "metadata": {},
   "outputs": [],
   "source": [
    "temp.info()"
   ]
  },
  {
   "cell_type": "code",
   "execution_count": null,
   "metadata": {},
   "outputs": [],
   "source": [
    "comedy_filt = df[\"category\"] == 'Comedy'\n",
    "df.loc[comedy_filt]\n",
    "\n"
   ]
  },
  {
   "cell_type": "code",
   "execution_count": null,
   "metadata": {},
   "outputs": [],
   "source": [
    "temp = pd.DataFrame(df[\"tags\"].str.replace(\"\\\"\",'').str.replace(\"|\",\" \").str.split(expand = True).stack().value_counts(), columns = ['countss'])"
   ]
  },
  {
   "cell_type": "code",
   "execution_count": null,
   "metadata": {},
   "outputs": [],
   "source": [
    "filt = ((temp[\"countss\"] >= 500) & (temp[\"countss\"] <= 1000))"
   ]
  },
  {
   "cell_type": "code",
   "execution_count": null,
   "metadata": {},
   "outputs": [],
   "source": [
    "from nltk.corpus import stopwords\n",
    "print(stopwords.words('english'))\n",
    "\n",
    "temp\n",
    "\n"
   ]
  },
  {
   "cell_type": "code",
   "execution_count": null,
   "metadata": {},
   "outputs": [],
   "source": [
    "filt = df3[\"snippet.title\"] == 'Travel & Events'"
   ]
  },
  {
   "cell_type": "code",
   "execution_count": null,
   "metadata": {},
   "outputs": [],
   "source": [
    "df3.loc[filt]"
   ]
  },
  {
   "cell_type": "code",
   "execution_count": null,
   "metadata": {},
   "outputs": [],
   "source": [
    "import matplotlib.pyplot as plt\n",
    "from wordcloud import WordCloud\n",
    "plt.subplots(figsize=(8,8))\n",
    "wordcloud = WordCloud(\n",
    "                          background_color='white',\n",
    "                          width=512,\n",
    "                          height=384,max_words = 100\n",
    "                         ).generate(\" \".join(df[\"title\"]))\n",
    "plt.imshow(wordcloud)\n",
    "plt.axis('off')\n",
    "plt.savefig('graph.png')\n",
    "\n",
    "plt.show()"
   ]
  },
  {
   "cell_type": "code",
   "execution_count": null,
   "metadata": {},
   "outputs": [],
   "source": [
    "import sys\n",
    "print(sys.executable)"
   ]
  },
  {
   "cell_type": "code",
   "execution_count": null,
   "metadata": {},
   "outputs": [],
   "source": [
    "!c:\\users\\rajvenka1\\appdata\\local\\programs\\python\\python37\\python -m pip install wordcloud"
   ]
  },
  {
   "cell_type": "code",
   "execution_count": null,
   "metadata": {},
   "outputs": [],
   "source": [
    "temp.index.sort_values()"
   ]
  }
 ],
 "metadata": {
  "kernelspec": {
   "display_name": "Python 3",
   "language": "python",
   "name": "python3"
  },
  "language_info": {
   "codemirror_mode": {
    "name": "ipython",
    "version": 3
   },
   "file_extension": ".py",
   "mimetype": "text/x-python",
   "name": "python",
   "nbconvert_exporter": "python",
   "pygments_lexer": "ipython3",
   "version": "3.7.5"
  }
 },
 "nbformat": 4,
 "nbformat_minor": 4
}
